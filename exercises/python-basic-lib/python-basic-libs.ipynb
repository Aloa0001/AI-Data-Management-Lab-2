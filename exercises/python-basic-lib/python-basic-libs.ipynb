{
 "cells": [
  {
   "cell_type": "markdown",
   "metadata": {},
   "source": [
    "# Python basic libraries (NumPy, Pandas)\n"
   ]
  },
  {
   "cell_type": "markdown",
   "metadata": {},
   "source": [
    "## Data Preprocessing with NumPy and Pandas:\n",
    "\n",
    "### NumPy:\n",
    "\n",
    "Is a powerful library for numerical computing in Python.\n",
    "\n",
    "It provides support for large, multi-dimensional arrays and matrices, along with mathematical functions to operate on these arrays.\n"
   ]
  },
  {
   "cell_type": "code",
   "execution_count": 1,
   "metadata": {},
   "outputs": [
    {
     "name": "stdout",
     "output_type": "stream",
     "text": [
      "Original Data:\n",
      "[[1 2 3]\n",
      " [4 5 6]\n",
      " [7 8 9]]\n",
      "\n",
      "Reshaped Data:\n",
      "[[1 2 3 4 5 6 7 8 9]]\n"
     ]
    }
   ],
   "source": [
    "import numpy as np\n",
    "\n",
    "# Create a NumPy array\n",
    "data = np.array([[1, 2, 3], [4, 5, 6], [7, 8, 9]])\n",
    "\n",
    "# Reshape the array\n",
    "reshaped_data = data.reshape(1, -1)\n",
    "\n",
    "print(\"Original Data:\")\n",
    "print(data)\n",
    "print(\"\\nReshaped Data:\")\n",
    "print(reshaped_data)"
   ]
  },
  {
   "cell_type": "markdown",
   "metadata": {},
   "source": [
    "#### 1. Creating NumPy Arrays:\n"
   ]
  },
  {
   "cell_type": "code",
   "execution_count": 10,
   "metadata": {},
   "outputs": [
    {
     "name": "stdout",
     "output_type": "stream",
     "text": [
      "[1 2 3 4 5]\n",
      "[[1 2 3]\n",
      " [4 5 6]\n",
      " [7 8 9]]\n",
      "[[0. 0. 0. 0.]\n",
      " [0. 0. 0. 0.]\n",
      " [0. 0. 0. 0.]]\n",
      "[[1. 1. 1.]\n",
      " [1. 1. 1.]]\n"
     ]
    }
   ],
   "source": [
    "import numpy as np\n",
    "\n",
    "arr_1d = np.array([1, 2, 3, 4, 5])\n",
    "print(arr_1d)\n",
    "\n",
    "arr_2d = np.array([[1, 2, 3], [4, 5, 6], [7, 8, 9]])\n",
    "print(arr_2d)\n",
    "\n",
    "zeros_arr = np.zeros((3, 4))\n",
    "print(zeros_arr)\n",
    "\n",
    "ones_arr = np.ones((2, 3))\n",
    "print(ones_arr)"
   ]
  },
  {
   "cell_type": "markdown",
   "metadata": {},
   "source": [
    "#### 2. Array Operations:\n"
   ]
  },
  {
   "cell_type": "code",
   "execution_count": 11,
   "metadata": {},
   "outputs": [
    {
     "name": "stdout",
     "output_type": "stream",
     "text": [
      "Addition: [5 7 9]\n",
      "Multiplication: [ 4 10 18]\n"
     ]
    }
   ],
   "source": [
    "# Element-wise Operations:\n",
    "\n",
    "arr_a = np.array([1, 2, 3])\n",
    "arr_b = np.array([4, 5, 6])\n",
    "\n",
    "result_addition = arr_a + arr_b\n",
    "result_multiplication = arr_a * arr_b\n",
    "\n",
    "print(\"Addition:\", result_addition)\n",
    "print(\"Multiplication:\", result_multiplication)"
   ]
  },
  {
   "cell_type": "code",
   "execution_count": 12,
   "metadata": {},
   "outputs": [
    {
     "name": "stdout",
     "output_type": "stream",
     "text": [
      "Matrix Multiplication:\n",
      "[[19 22]\n",
      " [43 50]]\n"
     ]
    }
   ],
   "source": [
    "# Matrix Multiplication:\n",
    "\n",
    "matrix_a = np.array([[1, 2], [3, 4]])\n",
    "matrix_b = np.array([[5, 6], [7, 8]])\n",
    "\n",
    "result_matrix_multiplication = np.dot(matrix_a, matrix_b)\n",
    "print(\"Matrix Multiplication:\")\n",
    "print(result_matrix_multiplication)"
   ]
  },
  {
   "cell_type": "markdown",
   "metadata": {},
   "source": [
    "#### 3. Array Functions:\n"
   ]
  },
  {
   "cell_type": "code",
   "execution_count": 14,
   "metadata": {},
   "outputs": [
    {
     "name": "stdout",
     "output_type": "stream",
     "text": [
      "Sum: 15\n",
      "Mean: 3.0\n",
      "Reshaped Array:\n",
      "[[1 2 3]\n",
      " [4 5 6]]\n"
     ]
    }
   ],
   "source": [
    "# sum & mean\n",
    "\n",
    "arr = np.array([1, 2, 3, 4, 5])\n",
    "sum_arr = np.sum(arr)\n",
    "mean_arr = np.mean(arr)\n",
    "\n",
    "print(\"Sum:\", sum_arr)\n",
    "print(\"Mean:\", mean_arr)\n",
    "\n",
    "# reshape\n",
    "\n",
    "arr = np.array([1, 2, 3, 4, 5, 6])\n",
    "reshaped_arr = arr.reshape((2, 3))\n",
    "print(\"Reshaped Array:\")\n",
    "print(reshaped_arr)"
   ]
  },
  {
   "cell_type": "code",
   "execution_count": 44,
   "metadata": {},
   "outputs": [
    {
     "name": "stdout",
     "output_type": "stream",
     "text": [
      "Random Array:\n",
      "[[0.54873379 0.6918952  0.65196126 0.22426931]\n",
      " [0.71217922 0.23724909 0.3253997  0.74649141]\n",
      " [0.6496329  0.84922341 0.65761289 0.5683086 ]]\n",
      "First three elements: [1 2 3]\n",
      "Elements starting with index 3: [4 5]\n",
      "Elements between index 2 and 4: [3 4]\n"
     ]
    }
   ],
   "source": [
    "# random number generation\n",
    "\n",
    "random_arr = np.random.rand(3, 4)\n",
    "print(\"Random Array:\")\n",
    "print(random_arr)\n",
    "\n",
    "# indexing and slicing\n",
    "\n",
    "arr = np.array([1, 2, 3, 4, 5])\n",
    "print(\"First three elements:\", arr[:3])\n",
    "print(\"Elements starting with index 3:\", arr[3:])\n",
    "print(\"Elements between index 2 and 4:\", arr[2:4])"
   ]
  },
  {
   "cell_type": "markdown",
   "metadata": {},
   "source": [
    "### Pandas:\n",
    "\n",
    "Is a powerful data manipulation library for Python.\n",
    "It provides data structures like Series and DataFrame, which are designed for efficient data analysis and manipulation.\n"
   ]
  },
  {
   "cell_type": "code",
   "execution_count": 2,
   "metadata": {},
   "outputs": [
    {
     "name": "stdout",
     "output_type": "stream",
     "text": [
      "Original DataFrame:\n",
      "      Name  Age  Salary\n",
      "0    Alice   25   50000\n",
      "1      Bob   30   60000\n",
      "2  Charlie   35   75000\n",
      "\n",
      "Selected Data:\n",
      "      Name  Age  Salary\n",
      "1      Bob   30   60000\n",
      "2  Charlie   35   75000\n"
     ]
    }
   ],
   "source": [
    "import pandas as pd\n",
    "\n",
    "# Create a Pandas DataFrame\n",
    "data = {\n",
    "    \"Name\": [\"Alice\", \"Bob\", \"Charlie\"],\n",
    "    \"Age\": [25, 30, 35],\n",
    "    \"Salary\": [50000, 60000, 75000],\n",
    "}\n",
    "\n",
    "df = pd.DataFrame(data)\n",
    "\n",
    "# Display the DataFrame\n",
    "print(\"Original DataFrame:\")\n",
    "print(df)\n",
    "\n",
    "# Filtering and selecting data\n",
    "selected_data = df[df[\"Age\"] > 28]\n",
    "\n",
    "print(\"\\nSelected Data:\")\n",
    "print(selected_data)"
   ]
  },
  {
   "cell_type": "markdown",
   "metadata": {},
   "source": [
    "#### 1. Creating Pandas Series and DataFrame:\n"
   ]
  },
  {
   "cell_type": "code",
   "execution_count": 46,
   "metadata": {},
   "outputs": [
    {
     "name": "stdout",
     "output_type": "stream",
     "text": [
      "0    10\n",
      "1    20\n",
      "2    30\n",
      "3    40\n",
      "4    50\n",
      "Name: MySeries, dtype: int64\n",
      "      Name  Age  Salary\n",
      "0    Alice   25   50000\n",
      "1      Bob   30   60000\n",
      "2  Charlie   35   75000\n"
     ]
    }
   ],
   "source": [
    "# creating a Pandas series\n",
    "\n",
    "import pandas as pd\n",
    "\n",
    "# Creating a Series from a list\n",
    "series = pd.Series([10, 20, 30, 40, 50], name=\"MySeries\")\n",
    "print(series)\n",
    "\n",
    "\n",
    "# Creating a DataFrame from a dictionary\n",
    "data = {\n",
    "    \"Name\": [\"Alice\", \"Bob\", \"Charlie\"],\n",
    "    \"Age\": [25, 30, 35],\n",
    "    \"Salary\": [50000, 60000, 75000],\n",
    "}\n",
    "\n",
    "df = pd.DataFrame(data)\n",
    "print(df)"
   ]
  },
  {
   "cell_type": "markdown",
   "metadata": {},
   "source": [
    "#### 2. Reading and Writing Data:\n"
   ]
  },
  {
   "cell_type": "code",
   "execution_count": 48,
   "metadata": {},
   "outputs": [
    {
     "name": "stdout",
     "output_type": "stream",
     "text": [
      "      Name  Age  Salary\n",
      "0    Alice   25   50000\n",
      "1      Bob   30   60000\n",
      "2  Charlie   35   75000\n"
     ]
    }
   ],
   "source": [
    "# Writing a DataFrame to a CSV file\n",
    "df.to_csv(\"templates/example.csv\", index=False)\n",
    "\n",
    "# Reading a CSV file into a DataFrame\n",
    "df_csv = pd.read_csv(\"templates/example.csv\")\n",
    "print(df_csv)"
   ]
  },
  {
   "cell_type": "markdown",
   "metadata": {},
   "source": [
    "#### 3. DataFrame Operations:\n"
   ]
  },
  {
   "cell_type": "code",
   "execution_count": 54,
   "metadata": {},
   "outputs": [
    {
     "name": "stdout",
     "output_type": "stream",
     "text": [
      "Shape: (3, 3)\n",
      "Columns: Index(['Name', 'Age', 'Salary'], dtype='object')\n",
      "Summary Statistics:         Age        Salary\n",
      "count   3.0      3.000000\n",
      "mean   30.0  61666.666667\n",
      "std     5.0  12583.057392\n",
      "min    25.0  50000.000000\n",
      "25%    27.5  55000.000000\n",
      "50%    30.0  60000.000000\n",
      "75%    32.5  67500.000000\n",
      "max    35.0  75000.000000\n",
      "Filtered Data:\n",
      "      Name  Age  Salary\n",
      "1      Bob   30   60000\n",
      "2  Charlie   35   75000\n"
     ]
    }
   ],
   "source": [
    "# Displaying basic information about the DataFrame\n",
    "print(\"Shape:\", df.shape)\n",
    "print(\"Columns:\", df.columns)\n",
    "print(\"Summary Statistics:\", df.describe())\n",
    "\n",
    "\n",
    "# Selecting rows based on a condition\n",
    "filtered_data = df[df[\"Age\"] > 25]\n",
    "print(\"Filtered Data:\")\n",
    "print(filtered_data)"
   ]
  },
  {
   "cell_type": "markdown",
   "metadata": {},
   "source": [
    "#### 4. Data Manipulation:\n"
   ]
  },
  {
   "cell_type": "code",
   "execution_count": 57,
   "metadata": {},
   "outputs": [
    {
     "name": "stdout",
     "output_type": "stream",
     "text": [
      "DataFrame with New Column:\n",
      "      Name  Age  Salary Department\n",
      "0    Alice   25   50000         HR\n",
      "1      Bob   30   60000         IT\n",
      "2  Charlie   35   75000       None\n",
      "DataFrame with Missing Values Filled:\n",
      "      Name  Age  Salary Department\n",
      "0    Alice   25   50000         HR\n",
      "1      Bob   30   60000         IT\n",
      "2  Charlie   35   75000          0\n"
     ]
    }
   ],
   "source": [
    "# Adding a new column to the DataFrame\n",
    "# df[\"Department\"] = [\"HR\", \"IT\", \"Finance\"]\n",
    "df[\"Department\"] = [\"HR\", \"IT\", None]\n",
    "print(\"DataFrame with New Column:\")\n",
    "print(df)\n",
    "\n",
    "\n",
    "# Handling missing values by filling with a default value\n",
    "df_filled = df.fillna(0)\n",
    "print(\"DataFrame with Missing Values Filled:\")\n",
    "print(df_filled)"
   ]
  },
  {
   "cell_type": "markdown",
   "metadata": {},
   "source": [
    "#### 5. Data Visualization with Pandas:\n"
   ]
  },
  {
   "cell_type": "code",
   "execution_count": 65,
   "metadata": {},
   "outputs": [
    {
     "data": {
      "text/plain": [
       "<Axes: title={'center': 'Salary Distribution'}, xlabel='Name'>"
      ]
     },
     "execution_count": 65,
     "metadata": {},
     "output_type": "execute_result"
    },
    {
     "data": {
      "image/png": "[encoded data removed]",
      "text/plain": [
       "<Figure size 640x480 with 1 Axes>"
      ]
     },
     "metadata": {},
     "output_type": "display_data"
    }
   ],
   "source": [
    "import pandas.plotting as plt\n",
    "\n",
    "# Creating a bar plot\n",
    "df.plot(x=\"Name\", y=\"Salary\", kind=\"bar\", title=\"Salary Distribution\")\n",
    "\n",
    "\n",
    "# Creating a histogram\n",
    "# df[\"Age\"].plot(kind=\"hist\", title=\"Age Distribution\", bins=10)\n",
    "# plt.show()"
   ]
  },
  {
   "cell_type": "markdown",
   "metadata": {},
   "source": [
    "## Data Visualization with Matplotlib and Seaborn:\n",
    "\n",
    "### Matplotlib:\n",
    "\n",
    "Matplotlib is a widely used 2D plotting library for Python.\n",
    "It allows you to create a variety of plots and charts.\n",
    "\n",
    "Example: Using Matplotlib for Data Visualization\n"
   ]
  },
  {
   "cell_type": "code",
   "execution_count": 3,
   "metadata": {},
   "outputs": [
    {
     "data": {
      "image/png": "[encoded data removed]",
      "text/plain": [
       "<Figure size 640x480 with 1 Axes>"
      ]
     },
     "metadata": {},
     "output_type": "display_data"
    }
   ],
   "source": [
    "import matplotlib.pyplot as plt\n",
    "\n",
    "# Create a simple line plot\n",
    "x = [1, 2, 3, 4, 5]\n",
    "y = [10, 12, 5, 8, 6]\n",
    "\n",
    "plt.plot(x, y, marker=\"o\")\n",
    "plt.title(\"Simple Line Plot\")\n",
    "plt.xlabel(\"X-axis\")\n",
    "plt.ylabel(\"Y-axis\")\n",
    "plt.show()"
   ]
  },
  {
   "cell_type": "markdown",
   "metadata": {},
   "source": [
    "### Seaborn:\n",
    "\n",
    "Seaborn is a statistical data visualization library built on top of Matplotlib.\n",
    "It provides a high-level interface for drawing attractive and informative statistical graphics.\n",
    "\n",
    "Example: Using Seaborn for Data Visualization\n"
   ]
  },
  {
   "cell_type": "code",
   "execution_count": null,
   "metadata": {},
   "outputs": [],
   "source": [
    "import seaborn as sns\n",
    "\n",
    "# Load a sample dataset\n",
    "iris = sns.load_dataset(\"iris\")\n",
    "\n",
    "# Create a pair plot\n",
    "sns.pairplot(iris, hue=\"species\")\n",
    "plt.title(\"Pair Plot of Iris Dataset\")\n",
    "plt.show()"
   ]
  },
  {
   "cell_type": "markdown",
   "metadata": {},
   "source": [
    "#### Next example:\n",
    "\n",
    "We generate a sample dataset with random values using NumPy.\n",
    "\n",
    "Calculate the correlation matrix using Pandas.\n",
    "\n",
    "Use Seaborn to create a heatmap of the correlation matrix.\n",
    "\n",
    "In the heatmap, each cell's color represents the correlation between the corresponding pairs of columns in the dataset.\n",
    "The annot=True argument adds the actual numerical values to each cell, and the color map (cmap='coolwarm') enhances the visualization.\n",
    "\n",
    "This example demonstrates how Seaborn can be used for advanced visualizations, especially when dealing with statistical relationships in datasets. The heatmap is a powerful tool to quickly identify patterns and relationships between variables in a dataset.\n"
   ]
  },
  {
   "cell_type": "code",
   "execution_count": 6,
   "metadata": {},
   "outputs": [
    {
     "data": {
      "image/png": "[encoded data removed]",
      "text/plain": [
       "<Figure size 800x600 with 2 Axes>"
      ]
     },
     "metadata": {},
     "output_type": "display_data"
    }
   ],
   "source": [
    "import numpy as np\n",
    "import pandas as pd\n",
    "import seaborn as sns\n",
    "import matplotlib.pyplot as plt\n",
    "\n",
    "# Generate a sample dataset\n",
    "np.random.seed(42)\n",
    "data = pd.DataFrame(np.random.rand(10, 5), columns=[\"A\", \"B\", \"C\", \"D\", \"E\"])\n",
    "\n",
    "# Calculate the correlation matrix\n",
    "correlation_matrix = data.corr()\n",
    "\n",
    "# Create a heatmap using Seaborn\n",
    "plt.figure(figsize=(8, 6))\n",
    "sns.heatmap(correlation_matrix, annot=True, cmap=\"coolwarm\", linewidths=0.5)\n",
    "plt.title(\"Correlation Matrix Heatmap\")\n",
    "plt.show()"
   ]
  }
 ],
 "metadata": {
  "kernelspec": {
   "display_name": "base",
   "language": "python",
   "name": "python3"
  },
  "language_info": {
   "codemirror_mode": {
    "name": "ipython",
    "version": 3
   },
   "file_extension": ".py",
   "mimetype": "text/x-python",
   "name": "python",
   "nbconvert_exporter": "python",
   "pygments_lexer": "ipython3",
   "version": "3.11.4"
  }
 },
 "nbformat": 4,
 "nbformat_minor": 2
}
