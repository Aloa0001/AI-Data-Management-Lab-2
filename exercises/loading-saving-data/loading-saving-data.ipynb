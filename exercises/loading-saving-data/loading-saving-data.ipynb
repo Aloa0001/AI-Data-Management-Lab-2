{
 "cells": [
  {
   "cell_type": "markdown",
   "metadata": {},
   "source": [
    "# Data Serialization in Python\n",
    "\n",
    "In Python, data serialization is the process of converting data structures or objects into a format that can be easily stored, transmitted, or reconstructed. This is particularly useful when you need to save data to a file, send it over a network, or store it in a database. Python provides several built-in modules for data serialization, and two of the most commonly used ones are pickle and json. Here's an overview of both:\n"
   ]
  },
  {
   "cell_type": "code",
   "execution_count": 10,
   "metadata": {},
   "outputs": [
    {
     "name": "stdout",
     "output_type": "stream",
     "text": [
      "{'name': 'John', 'age': 30, 'city': 'New York'}\n",
      "John\n",
      "30\n",
      "New York\n"
     ]
    }
   ],
   "source": [
    "import pickle\n",
    "\n",
    "data = {\"name\": \"John\", \"age\": 30, \"city\": \"New York\"}\n",
    "\n",
    "# Serialize data to a file\n",
    "with open(\"data.pickle\", \"wb\") as file:\n",
    "    pickle.dump(data, file)\n",
    "\n",
    "# Deserialize data from the file\n",
    "with open(\"data.pickle\", \"rb\") as file:\n",
    "    loaded_data = pickle.load(file)\n",
    "\n",
    "print(loaded_data)\n",
    "print(loaded_data[\"name\"])\n",
    "print(loaded_data[\"age\"])\n",
    "print(loaded_data[\"city\"])"
   ]
  },
  {
   "cell_type": "code",
   "execution_count": 19,
   "metadata": {},
   "outputs": [
    {
     "name": "stdout",
     "output_type": "stream",
     "text": [
      "<class 'dict'>\n",
      "dict_keys(['name', 'age', 'city'])\n",
      "John\n",
      "30\n",
      "New York\n",
      "{\"name\": \"John\", \"age\": 30, \"city\": \"New York\"}\n",
      "<class 'str'>\n",
      "{'name': 'John', 'age': 30, 'city': 'New York'}\n",
      "<class 'dict'>\n",
      "30\n"
     ]
    }
   ],
   "source": [
    "import json\n",
    "\n",
    "data = {\"name\": \"John\", \"age\": 30, \"city\": \"New York\"}\n",
    "\n",
    "# Serialize data to a JSON-formatted string\n",
    "json_string = json.dumps(data)\n",
    "\n",
    "with open(\"data.json\", \"w\") as f:\n",
    "    f.write(json_string)\n",
    "\n",
    "with open(\"data.json\", \"r\") as f:\n",
    "    read_text = f.read()\n",
    "\n",
    "# Deserialize data from the JSON-formatted string\n",
    "loaded_data = json.loads(json_string)\n",
    "loaded_data_from_file = json.loads(read_text)\n",
    "\n",
    "print(type(loaded_data))\n",
    "print(loaded_data.keys())\n",
    "print(loaded_data[\"name\"])\n",
    "print(loaded_data[\"age\"])\n",
    "print(loaded_data[\"city\"])\n",
    "print(read_text)\n",
    "print(type(read_text))\n",
    "print(loaded_data_from_file)\n",
    "print(type(loaded_data_from_file))\n",
    "print(loaded_data_from_file[\"age\"])"
   ]
  },
  {
   "cell_type": "markdown",
   "metadata": {},
   "source": [
    "## Consider Compression for Large Datasets:\n",
    "\n",
    "If dealing with large datasets, consider compressing data files to reduce storage requirements and improve transfer times.\n"
   ]
  },
  {
   "cell_type": "code",
   "execution_count": 22,
   "metadata": {},
   "outputs": [],
   "source": [
    "# Example: Saving compressed data\n",
    "import json\n",
    "import gzip\n",
    "\n",
    "data = {\"temperature\": 25, \"humidity\": 60}\n",
    "with gzip.open(\"data.json.gz\", \"wt\") as json_file:\n",
    "    json.dump(data, json_file)\n",
    "\n",
    "with gzip.open(\"data.json_2.gz\", \"wt\") as j_f:\n",
    "    json.dump(loaded_data_from_file, j_f)"
   ]
  },
  {
   "cell_type": "markdown",
   "metadata": {},
   "source": [
    "## Use Database Systems for Scalability:\n",
    "\n",
    "For large-scale IoT applications, consider using database systems like SQLite, MongoDB, or InfluxDB for efficient data storage, retrieval, and querying.\n"
   ]
  },
  {
   "cell_type": "code",
   "execution_count": null,
   "metadata": {},
   "outputs": [],
   "source": [
    "# Example: Using SQLite for data storage\n",
    "import sqlite3\n",
    "\n",
    "conn = sqlite3.connect(\"iot_data.db\")\n",
    "cursor = conn.cursor()\n",
    "\n",
    "# Create a table\n",
    "cursor.execute(\n",
    "    \"CREATE TABLE sensor_data (timestamp INTEGER, temperature REAL, humidity REAL)\"\n",
    ")\n",
    "\n",
    "# Insert data\n",
    "cursor.execute(\n",
    "    \"INSERT INTO sensor_data VALUES (?, ?, ?)\", (timestamp, temperature, humidity)\n",
    ")\n",
    "\n",
    "# Commit and close\n",
    "conn.commit()\n",
    "conn.close()"
   ]
  },
  {
   "cell_type": "markdown",
   "metadata": {},
   "source": [
    "# Programming Principles:\n"
   ]
  },
  {
   "cell_type": "markdown",
   "metadata": {},
   "source": [
    "## Modular Code for Reusability:\n",
    "\n",
    "Organize your code into modular functions or classes to promote reusability.\n",
    "\n",
    "This is especially important in IoT projects where sensor data processing and AI algorithms may be reused across multiple components.\n"
   ]
  },
  {
   "cell_type": "code",
   "execution_count": null,
   "metadata": {},
   "outputs": [],
   "source": [
    "# Example: Modular code for data processing\n",
    "def process_sensor_data(data):\n",
    "    # Processing logic\n",
    "    return processed_data\n",
    "\n",
    "\n",
    "def save_to_database(data):\n",
    "    # Database interaction logic\n",
    "    pass  # no-operation statement - placeholder - no action is desired or necessary\n",
    "\n",
    "\n",
    "# Note: 'pass' statement\n",
    "#   commonly used when you are in the process of defining the structure of your functions or classes,\n",
    "#   and you want to leave the implementation details for a later stage. It allows your code to remain\n",
    "#   syntactically correct while signaling that there is intentional lack of action in that particular\n",
    "#   part of the code.\n",
    "\n",
    "# Usage\n",
    "raw_data = {\"temperature\": 25, \"humidity\": 60}\n",
    "processed_data = process_sensor_data(raw_data)\n",
    "save_to_database(processed_data)"
   ]
  },
  {
   "cell_type": "markdown",
   "metadata": {},
   "source": [
    "## Exception Handling for Robustness:\n",
    "\n",
    "Implement robust error handling to gracefully handle exceptions, network issues, or file I/O errors.\n",
    "\n",
    "This ensures the stability of your IoT application.\n"
   ]
  },
  {
   "cell_type": "code",
   "execution_count": 26,
   "metadata": {},
   "outputs": [],
   "source": [
    "# Example: Exception handling during data loading\n",
    "try:\n",
    "    with open(\"data.json\", \"r\") as json_file:\n",
    "        loaded_data = json.load(json_file)\n",
    "except FileNotFoundError:\n",
    "    print(\"File not found. Please check the file path.\")\n",
    "except json.JSONDecodeError:\n",
    "    print(\"Error decoding JSON. Check the file format.\")"
   ]
  },
  {
   "cell_type": "markdown",
   "metadata": {},
   "source": [
    "## Securely Manage Credentials and Keys:\n",
    "\n",
    "When interacting with cloud services or databases, manage credentials and keys securely.\n",
    "\n",
    "Avoid hardcoding sensitive information in your code.\n"
   ]
  },
  {
   "cell_type": "code",
   "execution_count": 21,
   "metadata": {},
   "outputs": [
    {
     "name": "stdout",
     "output_type": "stream",
     "text": [
      "None\n"
     ]
    }
   ],
   "source": [
    "# Example: Use environment variables for API keys\n",
    "import os\n",
    "\n",
    "API_KEY = os.environ.get(\"API_KEY\")\n",
    "print(API_KEY)"
   ]
  },
  {
   "cell_type": "markdown",
   "metadata": {},
   "source": [
    "## Logging for Monitoring and Debugging:\n",
    "\n",
    "Implement logging to track the flow of your IoT application, monitor performance, and aid in debugging.\n"
   ]
  },
  {
   "cell_type": "code",
   "execution_count": 19,
   "metadata": {},
   "outputs": [],
   "source": [
    "import logging\n",
    "from datetime import datetime\n",
    "\n",
    "\n",
    "# Set up logging configuration\n",
    "logging.basicConfig(filename=\"logs/iot_application.log\", level=logging.INFO)\n",
    "\n",
    "\n",
    "def process_sensor_data(data):\n",
    "    # Processing logic\n",
    "    processed_data = data * 2\n",
    "\n",
    "    # Log an informational message\n",
    "    logging.info(\n",
    "        f\"{datetime.now().strftime('%y:%m:%d - %H:%M:%S')}: Processed sensor data: {data} -> {processed_data}\"\n",
    "    )\n",
    "\n",
    "    return processed_data\n",
    "\n",
    "\n",
    "def save_to_database(data):\n",
    "    # Database interaction logic\n",
    "    # Log a message indicating the start of the database interaction\n",
    "    logging.info(\n",
    "        f\"{datetime.now().strftime('%y:%m:%d - %H:%M:%S')}: Starting database interaction\"\n",
    "    )\n",
    "\n",
    "    # ... (actual database interaction code)\n",
    "\n",
    "    # Log a message indicating the completion of the database interaction\n",
    "    logging.info(\n",
    "        f\"{datetime.now().strftime('%y:%m:%d - %H:%M:%S:')}: Database interaction completed\"\n",
    "    )\n",
    "\n",
    "\n",
    "# Example usage\n",
    "raw_data = 2\n",
    "processed_data = process_sensor_data(raw_data)\n",
    "save_to_database(processed_data)"
   ]
  }
 ],
 "metadata": {
  "kernelspec": {
   "display_name": "Python 3",
   "language": "python",
   "name": "python3"
  },
  "language_info": {
   "codemirror_mode": {
    "name": "ipython",
    "version": 3
   },
   "file_extension": ".py",
   "mimetype": "text/x-python",
   "name": "python",
   "nbconvert_exporter": "python",
   "pygments_lexer": "ipython3",
   "version": "3.11.4"
  }
 },
 "nbformat": 4,
 "nbformat_minor": 2
}
