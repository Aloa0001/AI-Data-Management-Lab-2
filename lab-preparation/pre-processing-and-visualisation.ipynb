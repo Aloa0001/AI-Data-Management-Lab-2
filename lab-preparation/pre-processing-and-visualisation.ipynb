{
 "cells": [
  {
   "cell_type": "markdown",
   "metadata": {},
   "source": [
    "# Lab2-Data Pre-processing and Visualization\n"
   ]
  },
  {
   "cell_type": "markdown",
   "metadata": {},
   "source": [
    "## Section1: Importing and Saving data\n"
   ]
  },
  {
   "cell_type": "markdown",
   "metadata": {},
   "source": [
    "### Numpy\n",
    "\n",
    "NumPy is a library for the Python programming language that provides support for large, multi-dimensional arrays and matrices, along with a variety of high-level mathematical functions to operate on these arrays. It's widely used for numerical computations and serves as the foundation for many other scientific and data analysis libraries in Python.\n",
    "\n",
    "#### 1.1.1.Creating Arrays:\n"
   ]
  },
  {
   "cell_type": "code",
   "execution_count": 4,
   "metadata": {},
   "outputs": [
    {
     "name": "stdout",
     "output_type": "stream",
     "text": [
      "Array from list:\n",
      " [1 2 3]\n",
      "All zeros:\n",
      " [[0. 0.]\n",
      " [0. 0.]]\n",
      "All ones:\n",
      " [[1. 1. 1.]\n",
      " [1. 1. 1.]\n",
      " [1. 1. 1.]]\n",
      "Identity matrix:\n",
      " [[1. 0. 0. 0.]\n",
      " [0. 1. 0. 0.]\n",
      " [0. 0. 1. 0.]\n",
      " [0. 0. 0. 1.]]\n",
      "Array from range with step:\n",
      " [0 2 4 6 8]\n",
      "Random array:\n",
      " [[0.703 0.374]\n",
      " [0.09  0.059]]\n",
      "Random integer array:\n",
      " [[2 6 1]\n",
      " [6 3 4]\n",
      " [9 4 5]]\n",
      "Evenly spaced array:\n",
      " [ 0.  3.  6.  9. 12. 15.]\n"
     ]
    }
   ],
   "source": [
    "import numpy as np\n",
    "\n",
    "# Put it on top of your code. It will Make numpy values easier to read. supress avoids 0.0e0 where not necessary, precession is decimal digits\n",
    "np.set_printoptions(precision=3, suppress=True)\n",
    "\n",
    "# From a list\n",
    "a = np.array([1, 2, 3])\n",
    "print(\"Array from list:\\n\", a)\n",
    "\n",
    "# All zeros\n",
    "b = np.zeros((2, 2))\n",
    "print(\"All zeros:\\n\", b)\n",
    "\n",
    "# All ones\n",
    "c = np.ones((3, 3))\n",
    "print(\"All ones:\\n\", c)\n",
    "\n",
    "# Identity matrix\n",
    "d = np.eye(4)\n",
    "print(\"Identity matrix:\\n\", d)\n",
    "\n",
    "# Range with step\n",
    "e = np.arange(0, 10, 2)\n",
    "print(\"Array from range with step:\\n\", e)\n",
    "\n",
    "# Random values\n",
    "f = np.random.rand(2, 2)\n",
    "print(\"Random array:\\n\", f)\n",
    "\n",
    "# Random integers\n",
    "g = np.random.randint(1, 10, (3, 3))\n",
    "print(\"Random integer array:\\n\", g)\n",
    "\n",
    "# Evenly spaced values\n",
    "h = np.linspace(0, 15, 6)\n",
    "print(\"Evenly spaced array:\\n\", h)"
   ]
  },
  {
   "cell_type": "markdown",
   "metadata": {},
   "source": [
    "#### 1.1.2.Creating 2D Arrays:\n"
   ]
  },
  {
   "cell_type": "code",
   "execution_count": 5,
   "metadata": {},
   "outputs": [
    {
     "name": "stdout",
     "output_type": "stream",
     "text": [
      "2D array:\n",
      "\n",
      "[[1 2 3]\n",
      " [4 5 6]]\n"
     ]
    }
   ],
   "source": [
    "import numpy as np\n",
    "\n",
    "# Create a 2x3 array\n",
    "array_2d = np.array([[1, 2, 3], [4, 5, 6]])\n",
    "print(\"2D array:\\n\")\n",
    "print(array_2d)"
   ]
  },
  {
   "cell_type": "markdown",
   "metadata": {},
   "source": [
    "#### 1.1.3. Array Operations:\n"
   ]
  },
  {
   "cell_type": "code",
   "execution_count": 6,
   "metadata": {},
   "outputs": [
    {
     "name": "stdout",
     "output_type": "stream",
     "text": [
      "Element-wise addition:\n",
      "[5 7 9]\n",
      "Element-wise subtraction:\n",
      "[-3 -3 -3]\n",
      "Element-wise multiplication:\n",
      "[ 4 10 18]\n",
      "Element-wise division:\n",
      "[0.25 0.4  0.5 ]\n",
      "Element-wise exponentiation:\n",
      "[1 4 9]\n"
     ]
    }
   ],
   "source": [
    "import numpy as np\n",
    "\n",
    "a = np.array([1, 2, 3])\n",
    "b = np.array([4, 5, 6])\n",
    "\n",
    "# Element-wise addition\n",
    "c = a + b\n",
    "print(f\"Element-wise addition:\\n{c}\")\n",
    "# Output: [5 7 9]\n",
    "\n",
    "# Element-wise subtraction\n",
    "d = a - b\n",
    "print(f\"Element-wise subtraction:\\n{d}\")\n",
    "# Output:[-3 - 3 - 3]\n",
    "\n",
    "# Element-wise multiplication\n",
    "e = a * b\n",
    "print(f\"Element-wise multiplication:\\n{e}\")\n",
    "# Output: [4 10 18]\n",
    "\n",
    "# Element-wise division\n",
    "f = a / b\n",
    "print(f\"Element-wise division:\\n{f}\")\n",
    "# Output: [0.25 0.4 0.5]\n",
    "\n",
    "# Element-wise exponentiation\n",
    "g = a**2\n",
    "print(f\"Element-wise exponentiation:\\n{g}\")\n",
    "# Output: [1 4 9]"
   ]
  },
  {
   "cell_type": "markdown",
   "metadata": {},
   "source": [
    "#### 1.1.4. Indexing and Slicing:\n"
   ]
  },
  {
   "cell_type": "code",
   "execution_count": 20,
   "metadata": {},
   "outputs": [
    {
     "name": "stdout",
     "output_type": "stream",
     "text": [
      "2\n",
      "[1 2 3]\n",
      "5\n",
      "[3 4]\n",
      "[1 4]\n",
      "[[0 1]\n",
      " [3 4]]\n",
      "Reshaped array:\n",
      " [[1 2]\n",
      " [3 4]\n",
      " [5 6]]\n",
      "Flattened array: [1 2 3 4 5 6]\n",
      "Reshaped with unknown dimension:\n",
      " [[1 2 3]\n",
      " [4 5 6]]\n"
     ]
    }
   ],
   "source": [
    "import numpy as np\n",
    "\n",
    "# 1D array\n",
    "arr_1d = np.array([0, 1, 2, 3, 4, 5])\n",
    "# Indexing in 1D array\n",
    "print(arr_1d[2])\n",
    "# Output: 2\n",
    "\n",
    "# Slicing in 1D array\n",
    "print(arr_1d[1:4])\n",
    "# Output: [1 2 3]\n",
    "\n",
    "# 2D array\n",
    "arr_2d = np.array([[0, 1, 2], [3, 4, 5], [6, 7, 8]])\n",
    "# Indexing in 2D array\n",
    "print(arr_2d[1, 2])\n",
    "# Output: 5\n",
    "\n",
    "# Slicing rows in 2D array\n",
    "print(arr_2d[1, :2])\n",
    "# Output: [[0, 1, 2], [3, 4, 5]]\n",
    "\n",
    "# Slicing specific columns for the first two rows in 2D array\n",
    "print(arr_2d[0:2, 1])\n",
    "# Output: [1 4]\n",
    "\n",
    "# Combining indexing and slicing in 2D array\n",
    "print(arr_2d[0:2, 0:2])\n",
    "# Output: [[0 1][3 4]]\n",
    "\n",
    "# Reshaping a 1D array to a 2D array\n",
    "a = np.array([1, 2, 3, 4, 5, 6])\n",
    "reshaped_a = a.reshape(3, 2)\n",
    "print(\"Reshaped array:\\n\", reshaped_a)\n",
    "# Output: # [[1 2 3] # [4 5 6]]\n",
    "\n",
    "# Reshaping a 2D array to a 1D array\n",
    "flattened_a = reshaped_a.reshape(-1)\n",
    "print(\"Flattened array:\", flattened_a)\n",
    "# Output: [1 2 3 4 5 6]\n",
    "\n",
    "# Reshaping with unknown dimension\n",
    "unknown_dim_a = a.reshape(2, -1)\n",
    "# -1 is automatically inferred to be 3\n",
    "print(\"Reshaped with unknown dimension:\\n\", unknown_dim_a)\n",
    "# Output: # [[1 2 3]"
   ]
  },
  {
   "cell_type": "markdown",
   "metadata": {},
   "source": [
    "#### 1.1.5. Universal Functions (ufuncs)\n"
   ]
  },
  {
   "cell_type": "code",
   "execution_count": 27,
   "metadata": {},
   "outputs": [
    {
     "name": "stdout",
     "output_type": "stream",
     "text": [
      "Square root: [1. 2. 3. 4.]\n",
      "Rounded: [1. 3. 4.]\n",
      "Absolute value: [1 2 3]\n",
      "Sine values: [ 0.841 -0.757  0.412 -0.288]\n",
      "0.84\n",
      "Cosine values: [ 0.54  -0.654 -0.911 -0.958]\n",
      "Mean value: 2.5\n",
      "Standard deviation: 1.118033988749895\n",
      "Variance: 32.25\n",
      "Total sum: 10\n",
      "Minimum value: 1\n",
      "Maximum value: 4\n"
     ]
    }
   ],
   "source": [
    "import numpy as np\n",
    "import math as m\n",
    "\n",
    "# Define example arrays\n",
    "arr1 = np.array([1, 4, 9, 16])\n",
    "arr = np.array([1, 2, 3, 4])\n",
    "\n",
    "# Square root\n",
    "sqrt_arr = np.sqrt(arr1)\n",
    "print(\"Square root:\", sqrt_arr)\n",
    "\n",
    "# Rounding to the nearest integer\n",
    "rounded_arr = np.round([1.3, 2.7, 4.1])\n",
    "print(\"Rounded:\", rounded_arr)\n",
    "\n",
    "# Absolute value\n",
    "abs_arr = np.abs([-1, -2, -3])\n",
    "print(\"Absolute value:\", abs_arr)\n",
    "\n",
    "# Trigonometric functions\n",
    "sin_arr = np.sin(arr1)\n",
    "print(\"Sine values:\", sin_arr)\n",
    "print(f\"{m.sin(1):.2f}\")\n",
    "cos_arr = np.cos(arr1)\n",
    "print(\"Cosine values:\", cos_arr)\n",
    "\n",
    "# Mean\n",
    "mean_value = np.mean(arr)\n",
    "print(\"Mean value:\", mean_value)\n",
    "\n",
    "# Standard deviation\n",
    "std_deviation = np.std(arr)\n",
    "print(\"Standard deviation:\", std_deviation)\n",
    "\n",
    "# Variance\n",
    "variance_val = np.var(arr1)\n",
    "print(\"Variance:\", variance_val)\n",
    "\n",
    "# Sum of all elements\n",
    "total_sum = np.sum(arr)\n",
    "print(\"Total sum:\", total_sum)\n",
    "\n",
    "# Minimum and Maximum values\n",
    "min_value = np.min(arr)\n",
    "print(\"Minimum value:\", min_value)\n",
    "max_value = np.max(arr)\n",
    "print(\"Maximum value:\", max_value)"
   ]
  },
  {
   "cell_type": "markdown",
   "metadata": {},
   "source": [
    "#### Extra Statical Operations\n",
    "\n",
    "##### P-value & t-statistic\n",
    "\n",
    "1. The p-value is not directly computed by NumPy, as it is typically associated with statistical hypothesis testing\n",
    "2. you can use the scipy.stats module, which builds upon NumPy and provides functions for statistical analysis, including the computation of p-values\n"
   ]
  },
  {
   "cell_type": "code",
   "execution_count": 75,
   "metadata": {},
   "outputs": [
    {
     "name": "stdout",
     "output_type": "stream",
     "text": [
      "Sample mean value: 4.4\n",
      "The standard deviation is 1.624807680927192\n",
      "T-statistic: -0.36927447293799687\n",
      "The sample True mean is < than the hypothesized mean\n",
      "The sample mean is 0.36927447293799687 standard deviations away (smaller) from the hypothesized mean.\n",
      "P-value: 0.72046166395703\n",
      "Because the  P-value is > significance level (0.05),\n",
      "there is not enough evidence to Reject Reject the H0\n"
     ]
    }
   ],
   "source": [
    "import numpy as np\n",
    "from scipy.stats import ttest_1samp\n",
    "\n",
    "# Example data\n",
    "data = np.array([2, 3, 4, 5, 6, 2, 4, 5, 6, 7])\n",
    "# True sample mean value\n",
    "mean_sample_val = np.mean(data)\n",
    "print(f\"Sample mean value: {mean_sample_val}\")\n",
    "\n",
    "# Standard Deviation\n",
    "std_val = np.std(data)\n",
    "print(f\"The standard deviation is {std_val}\")\n",
    "\n",
    "# Hypothesized population mean H0\n",
    "hypothesized_mean = 4.6\n",
    "\n",
    "# Perform one-sample t-test\n",
    "t_statistic, p_value = ttest_1samp(data, hypothesized_mean)\n",
    "\n",
    "# The T-statistic\n",
    "#  *   measure of how many standard deviations the sample mean is from the hypothesized population mean.\n",
    "#  *   positive T-statistic -> the sample_mean > hypothesized_mean,\n",
    "#  *   negative T-statistic -> the sample_mean < hypothesized_mean\n",
    "#\n",
    "# The P-value\n",
    "#  *   assuming that the null hypothesis is true:\n",
    "#       *   is the probability of obtaining a T-statistic as extreme as the one observed in the sample\n",
    "#  *  small P-value (typically less than the chosen significance level, e.g., 0.05)\n",
    "#       * -> the observed sample mean is unlikely to have occurred by random chance alone\n",
    "#  *  If P-value < significance level -> may reject the null hypothesis in favor of the alternative hypothesis\n",
    "print(\"T-statistic:\", t_statistic)\n",
    "print(\n",
    "    f\"The sample True mean is {'>' if t_statistic > 0 else '<'} than the hypothesized mean\"\n",
    ")\n",
    "print(\n",
    "    f\"The sample mean is {abs(t_statistic)} standard deviations away ({'larger' if t_statistic > 0 else 'smaller'}) from the hypothesized mean.\"\n",
    ")\n",
    "print(\"P-value:\", p_value)\n",
    "print(\n",
    "    f\"Because the  P-value is {'>' if p_value > 0.05 else '<='} significance level (0.05),\\n{'can Reject' if p_value <= 0.05 else 'there is not enough evidence to Reject Reject'} the H0\"\n",
    ")"
   ]
  },
  {
   "cell_type": "markdown",
   "metadata": {},
   "source": [
    "##### Confidence Intervals\n",
    "\n",
    "To compute a confidence interval in Python, you can use the `scipy.stats` module. Specifically, you can use the `t.interval` function for a one-sample t-confidence interval.\n",
    "\n",
    "Parameters used:\n",
    "\n",
    "- confidence level\n",
    "- degree of freedom (e.g., n - 1 : for a one-sample t-test)\n",
    "- sample_mean (it is known)\n",
    "- sample_std (it is known)\n",
    "\n",
    "<!-- ![Confidence Interval](./images/CI_fromulas.png) -->\n",
    "<img src=\"./images/CI_fromulas.png\" alt=\"CI\" style=\"width:300px;\"/>\n",
    "\n",
    "The resulting confidence_interval will be a tuple representing the lower and upper bounds of the interval.\n"
   ]
  },
  {
   "cell_type": "code",
   "execution_count": 80,
   "metadata": {},
   "outputs": [
    {
     "name": "stdout",
     "output_type": "stream",
     "text": [
      "Confidence Interval: (3.1748098888379914, 5.625190111162009)\n"
     ]
    }
   ],
   "source": [
    "import numpy as np\n",
    "from scipy.stats import t\n",
    "\n",
    "# Example data\n",
    "data = np.array([2, 3, 4, 5, 6, 2, 4, 5, 6, 7])\n",
    "\n",
    "# Confidence level (e.g., 95%)\n",
    "confidence_level = 0.95\n",
    "\n",
    "# Degrees of freedom\n",
    "degrees_of_freedom = len(data) - 1\n",
    "\n",
    "# Mean and standard deviation of the sample\n",
    "sample_mean = np.mean(data)\n",
    "sample_std = np.std(data, ddof=1)  # ddof=1 for sample standard deviation\n",
    "\n",
    "# Compute the confidence interval\n",
    "confidence_interval = t.interval(\n",
    "    confidence_level,\n",
    "    degrees_of_freedom,\n",
    "    sample_mean,\n",
    "    scale=sample_std / np.sqrt(len(data)),\n",
    ")\n",
    "\n",
    "print(\"Confidence Interval:\", confidence_interval)"
   ]
  },
  {
   "cell_type": "markdown",
   "metadata": {},
   "source": [
    "#### 1.1.6. Masking and Boolean Indexing:\n"
   ]
  },
  {
   "cell_type": "code",
   "execution_count": 79,
   "metadata": {},
   "outputs": [
    {
     "name": "stdout",
     "output_type": "stream",
     "text": [
      "Confidence Interval: (3.1748098888379914, 5.625190111162009)\n"
     ]
    }
   ],
   "source": [
    "import numpy as np\n",
    "\n",
    "# Create an array\n",
    "arr = np.array([0, 1, 2, 3, 4, 5, 6, 7, 8, 9])\n",
    "\n",
    "# Create a mask\n",
    "mask = arr > 5\n",
    "\n",
    "# Use boolean indexing to create a filtered array\n",
    "filtered_arr = arr[mask]\n",
    "print(\"Filtered array:\", filtered_arr)\n",
    "\n",
    "# Combine masking and boolean indexing in one line\n",
    "filtered_arr_one_line = arr[arr > 5]\n",
    "print(\"Filtered array in one line:\", filtered_arr_one_line)"
   ]
  },
  {
   "cell_type": "markdown",
   "metadata": {},
   "source": [
    "#### 1.1.7. Broadcasting and Reshaping:\n"
   ]
  },
  {
   "cell_type": "code",
   "execution_count": 77,
   "metadata": {},
   "outputs": [
    {
     "name": "stdout",
     "output_type": "stream",
     "text": [
      "Broadcasting with a scalar: [2 4 6]\n",
      "Broadcasting with different shaped arrays: [[ 2  4  6]\n",
      " [ 5  7  9]\n",
      " [ 8 10 12]]\n",
      "Broadcasting a column vector across a 2D array: [[ 2  3  4]\n",
      " [ 6  7  8]\n",
      " [10 11 12]]\n",
      "Reshaped array:\n",
      " [[1 2 3]\n",
      " [4 5 6]]\n",
      "Flattened array: [1 2 3 4 5 6]\n",
      "Reshaped with unknown dimension:\n",
      " [[1 2 3]\n",
      " [4 5 6]]\n"
     ]
    }
   ],
   "source": [
    "import numpy as np\n",
    "\n",
    "# Broadcasting with a scalar\n",
    "a = np.array([1, 2, 3])\n",
    "result = a * 2\n",
    "print(\"Broadcasting with a scalar:\", result)\n",
    "# Output: [2 4 6]\n",
    "\n",
    "# Broadcasting with different shaped arrays\n",
    "b = np.array([[1, 2, 3], [4, 5, 6], [7, 8, 9]])\n",
    "c = np.array([1, 2, 3])\n",
    "result = b + c\n",
    "print(\"Broadcasting with different shaped arrays:\", result)\n",
    "# Output:\n",
    "# [[ 2 4 6]\n",
    "# [ 5 7 9]\n",
    "# [ 8 10 12]]\n",
    "\n",
    "# Broadcasting a column vector across a 2D array\n",
    "d = np.array([[1], [2], [3]])\n",
    "result = b + d\n",
    "print(\"Broadcasting a column vector across a 2D array:\", result)\n",
    "# Output:\n",
    "# [[ 2 3 4]\n",
    "# [ 6 7 8]\n",
    "# [10 11 12]]\n",
    "\n",
    "# Reshaping a 1D array to a 2D array\n",
    "a = np.array([1, 2, 3, 4, 5, 6])\n",
    "reshaped_a = a.reshape(2, 3)\n",
    "print(\"Reshaped array:\\n\", reshaped_a)\n",
    "# Output:\n",
    "# [[1 2 3]\n",
    "# [4 5 6]]\n",
    "# Reshaping a 2D array to a 1D array\n",
    "flattened_a = reshaped_a.reshape(-1)\n",
    "print(\"Flattened array:\", flattened_a)\n",
    "# Output: [1 2 3 4 5 6]\n",
    "# Reshaping with unknown dimension\n",
    "unknown_dim_a = a.reshape(2, -1)\n",
    "# -1 is automatically inferred to be 3\n",
    "print(\"Reshaped with unknown dimension:\\n\", unknown_dim_a)\n",
    "\n",
    "# Output:\n",
    "# [[1 2 3]\n",
    "# [4 5 6]]"
   ]
  }
 ],
 "metadata": {
  "kernelspec": {
   "display_name": "base",
   "language": "python",
   "name": "python3"
  },
  "language_info": {
   "codemirror_mode": {
    "name": "ipython",
    "version": 3
   },
   "file_extension": ".py",
   "mimetype": "text/x-python",
   "name": "python",
   "nbconvert_exporter": "python",
   "pygments_lexer": "ipython3",
   "version": "3.11.4"
  }
 },
 "nbformat": 4,
 "nbformat_minor": 2
}
